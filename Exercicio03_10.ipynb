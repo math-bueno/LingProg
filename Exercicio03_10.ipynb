{
 "cells": [
  {
   "cell_type": "markdown",
   "metadata": {},
   "source": [
    "10. Faça um Programa para um caixa eletrônico. O programa deverá perguntar ao usuário a valor do saque e depois informar quantas notas de cada valor serão fornecidas. As notas disponíveis serão as de 1, 5, 10, 50 e 100 reais. O valor mínimo é de 10 reais e o máximo de 600 reais. O programa não deve se preocupar com a quantidade de notas existentes na máquina. - Exemplo 1: Para sacar a quantia de 256 reais, o programa fornece duas notas de 100, uma nota de 50, uma nota de 5 e uma nota de 1; - Exemplo 2: Para sacar a quantia de 399 reais, o programa fornece três notas de 100, uma nota de 50, quatro notas de 10, uma nota de 5 e quatro notas de 1. "
   ]
  },
  {
   "cell_type": "code",
   "execution_count": 3,
   "metadata": {},
   "outputs": [
    {
     "name": "stdout",
     "output_type": "stream",
     "text": [
      "Quanto deseja sacar? 399\n",
      "- Valor do saque: R$ 399\n",
      "R$ 100:   3 notas\n",
      "R$  50:   1 notas\n",
      "R$  10:   4 notas\n",
      "R$   5:   1 notas\n",
      "R$   1:   4 notas\n",
      "\n"
     ]
    }
   ],
   "source": [
    "\n",
    "def m1(valor):\n",
    "    valor_total = valor \n",
    "    \n",
    "    notas100 = valor // 100  \n",
    "    valor -= notas100 * 100  \n",
    "    \n",
    "    notas50 = valor // 50\n",
    "    valor -= notas50 * 50\n",
    "    \n",
    "    notas10 = valor // 10\n",
    "    valor -= notas10 * 10\n",
    "    \n",
    "    notas5 = valor // 5\n",
    "    valor -= notas5 * 5\n",
    "    \n",
    "    print_notas(valor_total, valor, notas5, notas10, notas50, notas100)\n",
    "    \n",
    "\n",
    "\n",
    "def print_notas(total, notas1, notas5, notas10, notas50, notas100):\n",
    "    template = \"R$ {:>3}: {:>3} notas\"\n",
    "    print(\"- Valor do saque: R$ \" + str(total))\n",
    "    print(template.format(\"100\", notas100))\n",
    "    print(template.format(\"50\", notas50))\n",
    "    print(template.format(\"10\", notas10))\n",
    "    print(template.format(\"5\", notas5))\n",
    "    print(template.format(\"1\", notas1))\n",
    "    print()\n",
    "    \n",
    "\n",
    "# ---------------------------------------------------- \n",
    "\n",
    "valor = int(input('Quanto deseja sacar? '))\n",
    "\n",
    "\n",
    "resposta1 = m1(valor)\n",
    "\n"
   ]
  },
  {
   "cell_type": "code",
   "execution_count": null,
   "metadata": {},
   "outputs": [],
   "source": []
  }
 ],
 "metadata": {
  "kernelspec": {
   "display_name": "Python 3",
   "language": "python",
   "name": "python3"
  },
  "language_info": {
   "codemirror_mode": {
    "name": "ipython",
    "version": 3
   },
   "file_extension": ".py",
   "mimetype": "text/x-python",
   "name": "python",
   "nbconvert_exporter": "python",
   "pygments_lexer": "ipython3",
   "version": "3.6.4"
  }
 },
 "nbformat": 4,
 "nbformat_minor": 2
}
