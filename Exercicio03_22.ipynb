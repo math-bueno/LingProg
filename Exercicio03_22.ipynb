{
 "cells": [
  {
   "cell_type": "markdown",
   "metadata": {},
   "source": [
    "O Sr. Manoel Joaquim expandiu seus negócios para além dos negócios de 1,99 e agora possui uma loja de conveniências. Faça um programa que implemente uma caixa registradora rudimentar. O programa deverá receber um número desconhecido de valores referentes aos preços das mercadorias. Um valor zero deve ser informado pelo operador para indicar o final da compra. O programa deve então mostrar o total da compra e perguntar o valor em dinheiro que o cliente forneceu, para então calcular e mostrar o valor do troco. Após esta operação, o programa deverá voltar ao ponto inicial, para registrar a próxima compra. A saída deve ser conforme o exemplo abaixo: \n",
    " Lojas Tabajara  Produto 1: R$ 2.20 Produto 2: R$ 5.80 Produto 3: R$ 0 Total: R$ 9.00 Dinheiro: R$ 20.00 Troco: R$ 11.00 ..."
   ]
  },
  {
   "cell_type": "code",
   "execution_count": 3,
   "metadata": {},
   "outputs": [
    {
     "name": "stdout",
     "output_type": "stream",
     "text": [
      "---------- LOJA TABAJARA -----------\n",
      "Produto 1: R$ 12\n",
      "Produto 2: R$ 3\n",
      "Produto 3: R$ 0\n",
      "------------------------------------\n",
      "Total: R$ 15.00 \n",
      "Dinheiro: R$ 1\n",
      "Troco: R$ -14.00\n",
      "------------------------------------\n",
      "pressione 0 para reset, 1 para encerrar: 1\n",
      "\n",
      "\n",
      "\n",
      "\n",
      "\n",
      "\n",
      "\n",
      "\n",
      "\n",
      "\n",
      "\n",
      "\n",
      "\n",
      "\n",
      "\n",
      "\n",
      "\n",
      "\n",
      "\n",
      "\n",
      "\n",
      "\n",
      "\n",
      "\n",
      "\n",
      "\n",
      "\n",
      "\n",
      "\n",
      "\n",
      "\n",
      "\n",
      "\n",
      "\n",
      "\n",
      "\n",
      "\n",
      "\n",
      "\n",
      "\n",
      "\n",
      "Encerrando caixa...\n"
     ]
    }
   ],
   "source": [
    "def clear():\n",
    "    print(\"\\n\" * 40)\n",
    "\n",
    "\n",
    "while True:\n",
    "    print(\"---------- LOJA TABAJARA -----------\")\n",
    "    n = 1\n",
    "    total = 0\n",
    "\n",
    "    while True:\n",
    "        preco = float(input(\"Produto {}: R$ \".format(n)))\n",
    "        n += 1\n",
    "        total += preco\n",
    "        if preco == 0:\n",
    "            break\n",
    "\n",
    "    print(\"------------------------------------\")\n",
    "\n",
    "    print(\"Total: R$ {:.2f} \".format(total))\n",
    "    dinheiro = float(input(\"Dinheiro: R$ \"))\n",
    "    print(\"Troco: R$ {:.2f}\".format(dinheiro - total))\n",
    "\n",
    "    print(\"------------------------------------\")\n",
    "\n",
    "    reset = input(\"pressione 0 para reset, 1 para encerrar: \")\n",
    "    if reset == \"0\":\n",
    "        clear()\n",
    "        continue\n",
    "    else:\n",
    "        clear()\n",
    "        print(\"Encerrando caixa...\")\n",
    "        break\n"
   ]
  },
  {
   "cell_type": "code",
   "execution_count": null,
   "metadata": {},
   "outputs": [],
   "source": []
  }
 ],
 "metadata": {
  "kernelspec": {
   "display_name": "Python 3",
   "language": "python",
   "name": "python3"
  },
  "language_info": {
   "codemirror_mode": {
    "name": "ipython",
    "version": 3
   },
   "file_extension": ".py",
   "mimetype": "text/x-python",
   "name": "python",
   "nbconvert_exporter": "python",
   "pygments_lexer": "ipython3",
   "version": "3.6.4"
  }
 },
 "nbformat": 4,
 "nbformat_minor": 2
}
