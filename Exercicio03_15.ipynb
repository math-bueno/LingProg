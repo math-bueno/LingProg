{
 "cells": [
  {
   "cell_type": "markdown",
   "metadata": {},
   "source": [
    "15. Faça um programa que leia 5 números e informe a soma e a média dos números. "
   ]
  },
  {
   "cell_type": "code",
   "execution_count": 2,
   "metadata": {},
   "outputs": [
    {
     "name": "stdout",
     "output_type": "stream",
     "text": [
      "Digite o primeiro número: 10\n",
      "Digite o segundo número: 12\n",
      "Digite o terceiro número: 13\n",
      "Digite o quarto número: 5\n",
      "Digite o quinto número: 8\n",
      "A soma deu:  48\n",
      "A média deu:  9.6\n"
     ]
    }
   ],
   "source": [
    "n1 = int(input('Digite o primeiro número: '))\n",
    "n2 = int(input('Digite o segundo número: '))\n",
    "n3 = int(input('Digite o terceiro número: '))\n",
    "n4 = int(input('Digite o quarto número: '))\n",
    "n5 = int(input('Digite o quinto número: '))\n",
    " \n",
    "soma = n1+n2+n3+n4+n5 \n",
    "media = (n1+n2+n3+n4+n5)/5\n",
    "\n",
    "print('A soma deu: ' , soma)\n",
    "print('A média deu: ' , media)"
   ]
  },
  {
   "cell_type": "code",
   "execution_count": null,
   "metadata": {},
   "outputs": [],
   "source": []
  }
 ],
 "metadata": {
  "kernelspec": {
   "display_name": "Python 3",
   "language": "python",
   "name": "python3"
  },
  "language_info": {
   "codemirror_mode": {
    "name": "ipython",
    "version": 3
   },
   "file_extension": ".py",
   "mimetype": "text/x-python",
   "name": "python",
   "nbconvert_exporter": "python",
   "pygments_lexer": "ipython3",
   "version": "3.6.4"
  }
 },
 "nbformat": 4,
 "nbformat_minor": 2
}
