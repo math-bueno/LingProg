{
 "cells": [
  {
   "cell_type": "code",
   "execution_count": 1,
   "metadata": {
    "collapsed": false
   },
   "outputs": [
    {
     "name": "stdout",
     "output_type": "stream",
     "text": [
      "Vou inserir alguma coisa aqui\n"
     ]
    }
   ],
   "source": [
    "print(\"Vou inserir %s aqui\" %\"alguma coisa\")"
   ]
  },
  {
   "cell_type": "code",
   "execution_count": 6,
   "metadata": {
    "collapsed": false
   },
   "outputs": [
    {
     "name": "stdout",
     "output_type": "stream",
     "text": [
      "Vou inserir alguma coisa aqui e outra coisa e e mais alguma coisa\n"
     ]
    }
   ],
   "source": [
    "print(\"Vou inserir %s aqui e %s e %s\" % (\"alguma coisa\",'outra coisa','e mais alguma coisa'))"
   ]
  },
  {
   "cell_type": "code",
   "execution_count": 9,
   "metadata": {
    "collapsed": false
   },
   "outputs": [
    {
     "name": "stdout",
     "output_type": "stream",
     "text": [
      "Vou inserir alguma coisa aqui e alguma coisa e alguma coisa\n"
     ]
    }
   ],
   "source": [
    "x = \"alguma coisa\"\n",
    "y = \"alguma coisa\"\n",
    "z = \"alguma coisa\"\n",
    "print(\"Vou inserir %s aqui e %s e %s\" % (x,y,z))"
   ]
  },
  {
   "cell_type": "code",
   "execution_count": 7,
   "metadata": {
    "collapsed": false
   },
   "outputs": [
    {
     "name": "stdout",
     "output_type": "stream",
     "text": [
      "Numero decimal: 13.14\n"
     ]
    }
   ],
   "source": [
    "print(\"Numero decimal: %5.2f\" %13.144)"
   ]
  },
  {
   "cell_type": "code",
   "execution_count": 8,
   "metadata": {
    "collapsed": false
   },
   "outputs": [
    {
     "name": "stdout",
     "output_type": "stream",
     "text": [
      "Numero decimal: 13\n"
     ]
    }
   ],
   "source": [
    "print(\"Numero decimal: %1.0f\" %13.144)"
   ]
  },
  {
   "cell_type": "code",
   "execution_count": 10,
   "metadata": {
    "collapsed": false
   },
   "outputs": [
    {
     "name": "stdout",
     "output_type": "stream",
     "text": [
      "Numero decimal: 13.14400\n"
     ]
    }
   ],
   "source": [
    "print(\"Numero decimal: %1.5f\" %13.144)"
   ]
  },
  {
   "cell_type": "code",
   "execution_count": 11,
   "metadata": {
    "collapsed": false
   },
   "outputs": [
    {
     "name": "stdout",
     "output_type": "stream",
     "text": [
      "Numero decimal:      13.14\n"
     ]
    }
   ],
   "source": [
    "print(\"Numero decimal: %10.2f\" %13.144)"
   ]
  },
  {
   "cell_type": "code",
   "execution_count": 14,
   "metadata": {
    "collapsed": false
   },
   "outputs": [
    {
     "name": "stdout",
     "output_type": "stream",
     "text": [
      "primeiro:   ola\n",
      "segundo: 3.55\n",
      "terceiro:  500\n"
     ]
    }
   ],
   "source": [
    "print(\"primeiro: %5s\\nsegundo:%5.2f\\nterceiro:%5d\" %('ola',3.5514,500))"
   ]
  },
  {
   "cell_type": "code",
   "execution_count": 18,
   "metadata": {
    "collapsed": false
   },
   "outputs": [
    {
     "name": "stdout",
     "output_type": "stream",
     "text": [
      "primeiro: ola\n",
      "segundo: 3.14\n",
      "terceiro: 500\n"
     ]
    }
   ],
   "source": [
    "print(\"primeiro: \"+\"ola\"+ \"\\nsegundo: \"+str(3.14)+\"\\nterceiro: \"+str(500))"
   ]
  },
  {
   "cell_type": "code",
   "execution_count": 19,
   "metadata": {
    "collapsed": false
   },
   "outputs": [
    {
     "name": "stdout",
     "output_type": "stream",
     "text": [
      "Vou inserir alguma coisa aqui\n"
     ]
    }
   ],
   "source": [
    "print(\"Vou inserir {} aqui\".format(\"alguma coisa\"))"
   ]
  },
  {
   "cell_type": "code",
   "execution_count": 21,
   "metadata": {
    "collapsed": false
   },
   "outputs": [
    {
     "name": "stdout",
     "output_type": "stream",
     "text": [
      "Vou inserir alguma coisa aqui e outra coisa e e mais alguma coisa\n"
     ]
    }
   ],
   "source": [
    "print(\"Vou inserir {} aqui e {} e {}\".format(\"alguma coisa\",'outra coisa','e mais alguma coisa'))"
   ]
  },
  {
   "cell_type": "code",
   "execution_count": 22,
   "metadata": {
    "collapsed": false
   },
   "outputs": [
    {
     "name": "stdout",
     "output_type": "stream",
     "text": [
      "Vou inserir e mais alguma coisa aqui e alguma coisa e outra coisa\n"
     ]
    }
   ],
   "source": [
    "print(\"Vou inserir {2} aqui e {0} e {1}\".format(\"alguma coisa\",'outra coisa','e mais alguma coisa'))"
   ]
  },
  {
   "cell_type": "code",
   "execution_count": 23,
   "metadata": {
    "collapsed": false
   },
   "outputs": [
    {
     "name": "stdout",
     "output_type": "stream",
     "text": [
      "fruta    | quantidade\n"
     ]
    }
   ],
   "source": [
    "print('{0:8} | {1:9}'.format('fruta','quantidade'))"
   ]
  },
  {
   "cell_type": "code",
   "execution_count": 24,
   "metadata": {
    "collapsed": false
   },
   "outputs": [
    {
     "name": "stdout",
     "output_type": "stream",
     "text": [
      "fruta    | quantidade\n",
      "maça     |       3.0\n",
      "laranja  |        10\n"
     ]
    }
   ],
   "source": [
    "print('{0:8} | {1:9}'.format('fruta','quantidade'))\n",
    "print('{0:8} | {1:9}'.format('maça',3.))\n",
    "print('{0:8} | {1:9}'.format('laranja',10))"
   ]
  },
  {
   "cell_type": "code",
   "execution_count": 25,
   "metadata": {
    "collapsed": false
   },
   "outputs": [
    {
     "name": "stdout",
     "output_type": "stream",
     "text": [
      "Left     |  Center  |    Right\n"
     ]
    }
   ],
   "source": [
    "print('{0:<8} | {1:^8} | {2:>8}'.format('Left','Center','Right'))"
   ]
  },
  {
   "cell_type": "code",
   "execution_count": 26,
   "metadata": {
    "collapsed": false
   },
   "outputs": [
    {
     "name": "stdout",
     "output_type": "stream",
     "text": [
      "Left     |  Center  |    Right\n",
      "10       |    11    |       12\n"
     ]
    }
   ],
   "source": [
    "print('{0:<8} | {1:^8} | {2:>8}'.format('Left','Center','Right'))\n",
    "print('{0:<8} | {1:^8} | {2:>8}'.format(10,11,12))"
   ]
  },
  {
   "cell_type": "code",
   "execution_count": 28,
   "metadata": {
    "collapsed": false
   },
   "outputs": [
    {
     "name": "stdout",
     "output_type": "stream",
     "text": [
      "Left==== | -Center- | ...Right\n",
      "10====== | ---11--- | ......12\n"
     ]
    }
   ],
   "source": [
    "print('{0:=<8} | {1:-^8} | {2:.>8}'.format('Left','Center','Right'))\n",
    "print('{0:=<8} | {1:-^8} | {2:.>8}'.format(10,11,12))\n"
   ]
  },
  {
   "cell_type": "code",
   "execution_count": null,
   "metadata": {
    "collapsed": true
   },
   "outputs": [],
   "source": []
  }
 ],
 "metadata": {
  "kernelspec": {
   "display_name": "Python 3",
   "language": "python",
   "name": "python3"
  },
  "language_info": {
   "codemirror_mode": {
    "name": "ipython",
    "version": 3
   },
   "file_extension": ".py",
   "mimetype": "text/x-python",
   "name": "python",
   "nbconvert_exporter": "python",
   "pygments_lexer": "ipython3",
   "version": "3.6.0"
  }
 },
 "nbformat": 4,
 "nbformat_minor": 2
}
