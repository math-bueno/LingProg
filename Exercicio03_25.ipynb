{
 "cells": [
  {
   "cell_type": "markdown",
   "metadata": {},
   "source": [
    "Faça um programa que mostre os n termos da Série a seguir:   S = 1/1 + 2/3 + 3/5 + 4/7 + 5/9 + ... + n/m.  Imprima no final a soma da série. "
   ]
  },
  {
   "cell_type": "code",
   "execution_count": 1,
   "metadata": {},
   "outputs": [
    {
     "name": "stdout",
     "output_type": "stream",
     "text": [
      "Informe a quantidade de termos que deseja: 4\n",
      "Resultado: 2.84\n"
     ]
    }
   ],
   "source": [
    "termos = int(input('Informe a quantidade de termos que deseja: '))\n",
    "\n",
    "s = 0.0\n",
    "denominador = 1\n",
    "for i in range(1, termos + 1):\n",
    "    s += i / denominador\n",
    "    denominador += 2\n",
    "\n",
    "print ('Resultado: %.2f' % s)"
   ]
  },
  {
   "cell_type": "code",
   "execution_count": null,
   "metadata": {},
   "outputs": [],
   "source": []
  }
 ],
 "metadata": {
  "kernelspec": {
   "display_name": "Python 3",
   "language": "python",
   "name": "python3"
  },
  "language_info": {
   "codemirror_mode": {
    "name": "ipython",
    "version": 3
   },
   "file_extension": ".py",
   "mimetype": "text/x-python",
   "name": "python",
   "nbconvert_exporter": "python",
   "pygments_lexer": "ipython3",
   "version": "3.6.4"
  }
 },
 "nbformat": 4,
 "nbformat_minor": 2
}
