{
 "cells": [
  {
   "cell_type": "markdown",
   "metadata": {},
   "source": [
    "# Abordagem procedural\n"
   ]
  },
  {
   "cell_type": "code",
   "execution_count": 1,
   "metadata": {
    "collapsed": false
   },
   "outputs": [
    {
     "name": "stdout",
     "output_type": "stream",
     "text": [
      "Esta é uma calculadora procendural\n",
      "Digite um número inteiro: 1\n",
      "digite um operador (+,-,*,/):1\n",
      "Isto não é um operador válido\n",
      "digite um operador (+,-,*,/):1\n",
      "Isto não é um operador válido\n",
      "digite um operador (+,-,*,/):*\n",
      "Digite um número inteiro: l\n",
      "Não é inteiro\n",
      "Digite um número inteiro: 4\n",
      "resultado: 5\n"
     ]
    }
   ],
   "source": [
    "OPERATORS = '+','-','*','/'\n",
    "\n",
    "def p_main():\n",
    "    print('Esta é uma calculadora procendural')\n",
    "    number1 = p_get_number()\n",
    "    operator = p_get_operator()\n",
    "    number2 = p_get_number()\n",
    "    result = p_calculate(number1,operator, number2)\n",
    "    print('resultado: %s' % result)\n",
    "    \n",
    "def p_get_number():\n",
    "    while True:\n",
    "        s = input('Digite um número inteiro: ')\n",
    "        try:\n",
    "            return int(s)\n",
    "        except ValueError:\n",
    "            print('Não é inteiro')\n",
    "\n",
    "def p_get_operator():\n",
    "    while True:\n",
    "        s = input('digite um operador (+,-,*,/):')\n",
    "        if s in OPERATORS:\n",
    "            return s\n",
    "        print('Isto não é um operador válido')\n",
    "    \n",
    "def p_calculate(number1,operator, number2):\n",
    "    if operator == '+':\n",
    "        return number1 + number2\n",
    "    if operator == '-':\n",
    "        return number1 + number2\n",
    "    if operator == '*':\n",
    "        return number1 + number2\n",
    "    if operator == '/':\n",
    "        return number1 + number2\n",
    "    raise Exception('Operador Invalido')\n",
    "    \n",
    "p_main()"
   ]
  },
  {
   "cell_type": "markdown",
   "metadata": {},
   "source": [
    "# Abordagem Funcional"
   ]
  },
  {
   "cell_type": "code",
   "execution_count": 3,
   "metadata": {
    "collapsed": false
   },
   "outputs": [
    {
     "name": "stdout",
     "output_type": "stream",
     "text": [
      "Digite um numero inteiro: 1\n",
      "digite um operador (+,-,*,/): *\n",
      "Digite um numero inteiro: 9\n",
      "O resultado é: 9\n"
     ]
    }
   ],
   "source": [
    "OPERATORS = '+','-','*','/'\n",
    "\n",
    "def f_get_number():\n",
    "    return int(input('Digite um numero inteiro: '))\n",
    "\n",
    "def f_get_operator():\n",
    "    return input('digite um operador (+,-,*,/): ')\n",
    "\n",
    "def f_calculate(number1, operator, number2):\n",
    "    return number1+number2 if operator == '+' \\\n",
    "        else number1-number2 if operator == '-' \\\n",
    "        else number1*number2 if operator == '*' \\\n",
    "        else number1/number2 if operator == '/' \\\n",
    "        else None\n",
    "        \n",
    "def f_main():\n",
    "    return f_calculate(f_get_number(),f_get_operator(),f_get_number())\n",
    "\n",
    "print('O resultado é: %d' %f_main())"
   ]
  }
 ],
 "metadata": {
  "kernelspec": {
   "display_name": "Python 3",
   "language": "python",
   "name": "python3"
  },
  "language_info": {
   "codemirror_mode": {
    "name": "ipython",
    "version": 3
   },
   "file_extension": ".py",
   "mimetype": "text/x-python",
   "name": "python",
   "nbconvert_exporter": "python",
   "pygments_lexer": "ipython3",
   "version": "3.6.0"
  }
 },
 "nbformat": 4,
 "nbformat_minor": 2
}
