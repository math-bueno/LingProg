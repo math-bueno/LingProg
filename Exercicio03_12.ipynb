{
 "cells": [
  {
   "cell_type": "markdown",
   "metadata": {},
   "source": [
    "12. Uma fruteira está vendendo frutas com a seguinte tabela de preços: \n",
    "                       Até 5 Kg           Acima de 5 Kg Morango         R$ 2,50 por Kg          R$ 2,20 por Kg Maçã            R$ 1,80 por Kg          R$ 1,50 por Kg \n",
    " \n",
    "Se o cliente comprar mais de 8 Kg em frutas ou o valor total da compra ultrapassar R$ 25,00, receberá ainda um desconto de 10% sobre este total. Escreva um algoritmo para ler a quantidade (em Kg) de morangos e a quantidade (em Kg) de maças adquiridas e escreva o valor a ser pago pelo cliente. "
   ]
  },
  {
   "cell_type": "code",
   "execution_count": 7,
   "metadata": {},
   "outputs": [
    {
     "name": "stdout",
     "output_type": "stream",
     "text": [
      "Por favor, informe o peso desejado:Morango\n",
      "valor Invalido do peso.\n",
      "Por favor, informe o peso desejado:2.0\n",
      "Valor a pagar:R$5.00\n"
     ]
    }
   ],
   "source": [
    "\n",
    "def calcular_precos():\n",
    "  \n",
    "    count = 0\n",
    "    calculo_produto = 0\n",
    "  \n",
    "    dados_produto = [(\"Morango\", 2.50, 2.20), (\"Maçã\", 1.80, 1.50)]\n",
    "    \n",
    "    while True:\n",
    "        \n",
    "        try:\n",
    "        \n",
    "            #obter o peso do produto.\n",
    "            peso = float(input(\"Por favor, informe o peso desejado:\"))\n",
    "        \n",
    "            #verificar se o peso está acima de zero.\n",
    "            if peso > 0:\n",
    "                break\n",
    "          \n",
    "            else:\n",
    "                continue\n",
    "\n",
    "        except ValueError:\n",
    "            print (\"valor Invalido do peso.\")\n",
    "            continue\n",
    "\n",
    "    #calculos do produto\n",
    "    if peso <= 5 and peso > 0:\n",
    "        calculo_produto = dados_produto[count][1] * peso\n",
    "        \n",
    "    elif peso > 5:\n",
    "        calculo_produto = dados_produto[count][2] * peso\n",
    "        \n",
    "        if peso > 8 or calculo_produto > 25:\n",
    "            calculo_produto = (dados_produto[count][2] * peso) - ((dados_produto[count][2] * peso) * 10 / 100)\n",
    "            \n",
    "    print (\"Valor a pagar:R$%.2f\" % calculo_produto)\n",
    "\n",
    "calcular_precos()"
   ]
  },
  {
   "cell_type": "code",
   "execution_count": null,
   "metadata": {},
   "outputs": [],
   "source": []
  },
  {
   "cell_type": "code",
   "execution_count": null,
   "metadata": {},
   "outputs": [],
   "source": []
  }
 ],
 "metadata": {
  "kernelspec": {
   "display_name": "Python 3",
   "language": "python",
   "name": "python3"
  },
  "language_info": {
   "codemirror_mode": {
    "name": "ipython",
    "version": 3
   },
   "file_extension": ".py",
   "mimetype": "text/x-python",
   "name": "python",
   "nbconvert_exporter": "python",
   "pygments_lexer": "ipython3",
   "version": "3.6.4"
  }
 },
 "nbformat": 4,
 "nbformat_minor": 2
}
