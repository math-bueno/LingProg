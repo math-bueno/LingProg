{
 "cells": [
  {
   "cell_type": "markdown",
   "metadata": {},
   "source": [
    "9. Faça um programa que calcule as raízes de uma equação do segundo grau, na forma ax2 + bx + c. O programa deverá pedir os valores de a, b e c e fazer as consistências, informando ao usuário nas seguintes situações: - Se o usuário informar o valor de A igual a zero, a equação não é do segundo grau e o programa não deve fazer pedir os demais valores, sendo encerrado; \n",
    "- Se o delta calculado for negativo, a equação não possui raizes reais. Informe ao usuário e encerre o programa; - Se o delta calculado for igual a zero a equação possui apenas uma raiz real; informe-a ao usuário; - Se o delta for positivo, a equação possui duas raiz reais; informe-as ao usuário; "
   ]
  },
  {
   "cell_type": "code",
   "execution_count": 13,
   "metadata": {},
   "outputs": [
    {
     "name": "stdout",
     "output_type": "stream",
     "text": [
      "Digite os termos da equação a, b e c da equação ax² + bx + c\n",
      "Digite o \"a\" da equação: 1\n",
      "Digite o \"b\" da equação: 2\n",
      "Digite o \"c\" da equação: -2\n",
      "Delta =  12  A equação possui duas raízes\n",
      "Raíz 1 da equação =  0.7320508075688772\n",
      "Raíz 2 da equação =  -2.732050807568877\n"
     ]
    }
   ],
   "source": [
    "import math\n",
    "\n",
    "print('Digite os termos da equação a, b e c da equação ax² + bx + c')\n",
    "a = int(input('Digite o \"a\" da equação: '))\n",
    "if a == 0:\n",
    "    print('Não é uma equaçãoo de Segundo Grau!')\n",
    "else:\n",
    "    b = int(input('Digite o \"b\" da equação: '))\n",
    "    c = int(input('Digite o \"c\" da equação: '))\n",
    "    delta = (b**2) - (4*a*c)\n",
    "    \n",
    "if delta < 0:       \n",
    "        print ('Delta = ' ,delta,' A equação não possui raízes reais')    \n",
    "\n",
    "if delta == 0:        \n",
    "            print ('Delta = ' ,delta, '. A equação possui uma raíz')      \n",
    "            raiz = ((-1)*b + math.sqrt(delta))/(2*a)  \n",
    "            print ('Raíz da equação é = ', raiz)\n",
    "            \n",
    "if delta > 0:       \n",
    "        print ('Delta = ', delta, ' A equação possui duas raízes')\n",
    "        raiz1 = ((-1)*b + math.sqrt(delta))/(2*a)\n",
    "        raiz2 = ((-1)*b - math.sqrt(delta))/(2*a)\n",
    "        print ('Raíz 1 da equação = ', raiz1)\n",
    "        print ('Raíz 2 da equação = ', raiz2)\n"
   ]
  },
  {
   "cell_type": "code",
   "execution_count": null,
   "metadata": {},
   "outputs": [],
   "source": []
  },
  {
   "cell_type": "code",
   "execution_count": null,
   "metadata": {},
   "outputs": [],
   "source": [
    "1\n"
   ]
  }
 ],
 "metadata": {
  "kernelspec": {
   "display_name": "Python 3",
   "language": "python",
   "name": "python3"
  },
  "language_info": {
   "codemirror_mode": {
    "name": "ipython",
    "version": 3
   },
   "file_extension": ".py",
   "mimetype": "text/x-python",
   "name": "python",
   "nbconvert_exporter": "python",
   "pygments_lexer": "ipython3",
   "version": "3.6.4"
  }
 },
 "nbformat": 4,
 "nbformat_minor": 2
}
