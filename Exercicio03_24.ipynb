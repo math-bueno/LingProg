{
 "cells": [
  {
   "cell_type": "markdown",
   "metadata": {},
   "source": [
    " Faça um programa que receba o valor de uma dívida e mostre uma tabela com os seguintes dados: valor da dívida, valor dos juros, quantidade de parcelas e valor da parcela. Os juros e a quantidade de parcelas seguem a tabela abaixo: Quantidade de Parcelas  % de Juros sobre o valor inicial da dívida \n",
    " 1       0 3       10 6       15 9       20 12      25 \n",
    " Exemplo de saída do programa: \n",
    " \n",
    "Valor da Dívida Valor dos Juros Quantidade de Parcelas  Valor da Parcela R$ 1.000,00     0               1                       R$  1.000,00 R$ 1.100,00     100             3                       R$    366,00 R$ 1.150,00     150             6                       R$    191,67 "
   ]
  },
  {
   "cell_type": "code",
   "execution_count": 1,
   "metadata": {},
   "outputs": [
    {
     "name": "stdout",
     "output_type": "stream",
     "text": [
      "Informe o valor da divida: 1450\n",
      "R$ 1450.00\tR$ 0.00\t1\tR$ 1450.00\n",
      "R$ 1595.00\tR$ 145.00\t3\tR$ 531.67\n",
      "R$ 1667.50\tR$ 217.50\t6\tR$ 277.92\n",
      "R$ 1740.00\tR$ 290.00\t9\tR$ 193.33\n",
      "R$ 1812.50\tR$ 362.50\t12\tR$ 151.04\n"
     ]
    }
   ],
   "source": [
    "divida = float(input('Informe o valor da divida: '))\n",
    "\n",
    "juros = 0\n",
    "for i in [1, 3, 6, 9, 12]:\n",
    "    valorJuros = (divida * (juros / 100.0))\n",
    "    valorDivida = divida + valorJuros\n",
    "    valorParcela = valorDivida / float(i)\n",
    "    print ('R$ %.2f\\tR$ %.2f\\t%i\\tR$ %.2f' %(valorDivida, valorJuros, i, valorParcela))\n",
    "    if (i == 1):\n",
    "        juros = 10\n",
    "    else:\n",
    "        juros += 5"
   ]
  },
  {
   "cell_type": "code",
   "execution_count": null,
   "metadata": {},
   "outputs": [],
   "source": []
  }
 ],
 "metadata": {
  "kernelspec": {
   "display_name": "Python 3",
   "language": "python",
   "name": "python3"
  },
  "language_info": {
   "codemirror_mode": {
    "name": "ipython",
    "version": 3
   },
   "file_extension": ".py",
   "mimetype": "text/x-python",
   "name": "python",
   "nbconvert_exporter": "python",
   "pygments_lexer": "ipython3",
   "version": "3.6.4"
  }
 },
 "nbformat": 4,
 "nbformat_minor": 2
}
