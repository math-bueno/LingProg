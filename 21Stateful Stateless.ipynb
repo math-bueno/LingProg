{
 "cells": [
  {
   "cell_type": "code",
   "execution_count": 2,
   "metadata": {
    "collapsed": true
   },
   "outputs": [],
   "source": [
    "# Exemplo stateful"
   ]
  },
  {
   "cell_type": "code",
   "execution_count": 4,
   "metadata": {
    "collapsed": false
   },
   "outputs": [
    {
     "name": "stdout",
     "output_type": "stream",
     "text": [
      "[joao] Hello\n",
      "[Carlos] FooBar\n"
     ]
    }
   ],
   "source": [
    "current_speaker = None\n",
    "\n",
    "def register(name):\n",
    "    global current_speaker\n",
    "    current_speaker = name\n",
    "\n",
    "def speak(text):\n",
    "    print('[%s] %s' % (current_speaker, text))\n",
    "    \n",
    "register('joao')\n",
    "speak('Hello')\n",
    "register('Carlos')\n",
    "speak('FooBar')\n"
   ]
  },
  {
   "cell_type": "code",
   "execution_count": 5,
   "metadata": {
    "collapsed": true
   },
   "outputs": [],
   "source": [
    "# Objetos tambem são stateful"
   ]
  },
  {
   "cell_type": "code",
   "execution_count": 8,
   "metadata": {
    "collapsed": false
   },
   "outputs": [
    {
     "name": "stdout",
     "output_type": "stream",
     "text": [
      "[Joao] Hello\n",
      "[Carlos] Foobar\n"
     ]
    }
   ],
   "source": [
    "class Speaker():\n",
    "    def __init__(self, name):\n",
    "        self._name = name\n",
    "    \n",
    "    def speak(self,text):\n",
    "        print('[%s] %s' % (self._name, text))\n",
    "    \n",
    "joao = Speaker('Joao')\n",
    "joao.speak('Hello')\n",
    "carlos = Speaker('Carlos')\n",
    "carlos.speak('Foobar')"
   ]
  },
  {
   "cell_type": "code",
   "execution_count": 9,
   "metadata": {
    "collapsed": true
   },
   "outputs": [],
   "source": [
    "# Funções stateless geralmente são triviais"
   ]
  },
  {
   "cell_type": "code",
   "execution_count": 10,
   "metadata": {
    "collapsed": false
   },
   "outputs": [
    {
     "name": "stdout",
     "output_type": "stream",
     "text": [
      "[joao] Hello\n",
      "[Carlos] FooBar\n"
     ]
    }
   ],
   "source": [
    "def speak(speaker, text):\n",
    "    print('[%s] %s' % (speaker, text))\n",
    "    \n",
    "joao = 'joao'\n",
    "speak(joao, 'Hello')\n",
    "carlos = 'Carlos'\n",
    "speak(carlos, 'FooBar')"
   ]
  }
 ],
 "metadata": {
  "kernelspec": {
   "display_name": "Python 3",
   "language": "python",
   "name": "python3"
  },
  "language_info": {
   "codemirror_mode": {
    "name": "ipython",
    "version": 3
   },
   "file_extension": ".py",
   "mimetype": "text/x-python",
   "name": "python",
   "nbconvert_exporter": "python",
   "pygments_lexer": "ipython3",
   "version": "3.6.0"
  }
 },
 "nbformat": 4,
 "nbformat_minor": 2
}
