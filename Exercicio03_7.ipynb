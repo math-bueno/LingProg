{
 "cells": [
  {
   "cell_type": "markdown",
   "metadata": {},
   "source": [
    "7. Faça um programa que lê as duas notas parciais obtidas por um aluno numa disciplina ao longo de um semestre, e calcule a sua média. A atribuição de conceitos obedece à tabela abaixo:   Média de Aproveitamento  Conceito   Entre 9.0 e 10.0        A   Entre 7.5 e 9.0         B   Entre 6.0 e 7.5         C   Entre 4.0 e 6.0         D   Entre 4.0 e zero        E O algoritmo deve mostrar na tela as notas, a média, o conceito correspondente e a mensagem “APROVADO” se o conceito for A, B ou C ou “REPROVADO” se o conceito for D ou E."
   ]
  },
  {
   "cell_type": "code",
   "execution_count": 2,
   "metadata": {},
   "outputs": [
    {
     "name": "stdout",
     "output_type": "stream",
     "text": [
      "Digite a primeira nota: 5\n",
      "Digite a segunda nota: 8\n",
      "Media: 6.50, Conceito: C. Aprovado.\n"
     ]
    }
   ],
   "source": [
    "n1 = float(input('Digite a primeira nota: '))\n",
    "n2 = float(input('Digite a segunda nota: '))\n",
    "\n",
    "media = (n1 + n2)/2\n",
    "\n",
    "if media > 0 and media <= 4.0:\n",
    "    print('Media: %.2f, Conceito: E. Reprovado.' % (media))\n",
    "\n",
    "elif media > 4.0 and media <= 6.0:\n",
    "    print('Media: %.2f, Conceito: D. Reprovado.' % (media))\n",
    "\n",
    "elif media > 6.0 and media <= 7.5:\n",
    "    print('Media: %.2f, Conceito: C. Aprovado.' % (media))\n",
    "\n",
    "elif media > 7.5 and media < 9.0:\n",
    "    print('Media: %.2f, Conceito: B. Aprovado.' % (media))\n",
    "\n",
    "elif media > 9.0 and media <= 10.0:\n",
    "    print('Media: %.2f, Conceito: A. Aprovado.' % (media))\n",
    "\n",
    "else:\n",
    "    print('Nota inválida, Nota1: %.2f, Nota2: %.2f' % (nota_1, nota_2))"
   ]
  },
  {
   "cell_type": "code",
   "execution_count": null,
   "metadata": {},
   "outputs": [],
   "source": []
  }
 ],
 "metadata": {
  "kernelspec": {
   "display_name": "Python 3",
   "language": "python",
   "name": "python3"
  },
  "language_info": {
   "codemirror_mode": {
    "name": "ipython",
    "version": 3
   },
   "file_extension": ".py",
   "mimetype": "text/x-python",
   "name": "python",
   "nbconvert_exporter": "python",
   "pygments_lexer": "ipython3",
   "version": "3.6.4"
  }
 },
 "nbformat": 4,
 "nbformat_minor": 2
}
