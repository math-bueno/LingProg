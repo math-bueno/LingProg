{
 "cells": [
  {
   "cell_type": "markdown",
   "metadata": {},
   "source": [
    "4. Faça um Programa que leia três números e mostre-os em ordem decrescente. "
   ]
  },
  {
   "cell_type": "code",
   "execution_count": 28,
   "metadata": {},
   "outputs": [
    {
     "name": "stdout",
     "output_type": "stream",
     "text": [
      "Digite o primeiro numero: 3\n",
      "Digite o segundo numero: 6\n",
      "Digite o terceiro numero: 9\n"
     ]
    }
   ],
   "source": [
    "n1 = int(input('Digite o primeiro numero: '))\n",
    "n2 = int(input('Digite o segundo numero: '))\n",
    "n3 = int(input('Digite o terceiro numero: '))"
   ]
  },
  {
   "cell_type": "code",
   "execution_count": 29,
   "metadata": {},
   "outputs": [
    {
     "name": "stdout",
     "output_type": "stream",
     "text": [
      "9\n"
     ]
    }
   ],
   "source": [
    "#Maior número\n",
    "if n1 > n2 and n1 > n3:\n",
    "    print (n1)\n",
    "\n",
    "elif n2 > n3 and n2 > n1:\n",
    "    print (n2) \n",
    "    \n",
    "elif n3 > n1 and n3 > n2:\n",
    "    print (n3)\n"
   ]
  },
  {
   "cell_type": "code",
   "execution_count": 30,
   "metadata": {},
   "outputs": [
    {
     "name": "stdout",
     "output_type": "stream",
     "text": [
      "6\n"
     ]
    }
   ],
   "source": [
    "#Número do meio\n",
    "if n1 < n3 and n1 > n2:         \n",
    "    print (n3)\n",
    "elif n2 > n1 and n2 < n3:\n",
    "    print (n2)\n",
    "    \n",
    "elif n2 < n1 and n2 > n3:\n",
    "    print(n1)\n",
    "    \n",
    "elif n3 < n2 and n3 < n1:\n",
    "    print(n2)"
   ]
  },
  {
   "cell_type": "code",
   "execution_count": 31,
   "metadata": {},
   "outputs": [
    {
     "name": "stdout",
     "output_type": "stream",
     "text": [
      "3\n"
     ]
    }
   ],
   "source": [
    "#Menoo número\n",
    "if n1 < n2 and n1 < n3:\n",
    "    print (n1)\n",
    "    \n",
    "elif n2 < n3 and n2 < n1:\n",
    "    print (n2)\n",
    "    \n",
    "elif n3 < n1 and n3 < n2:\n",
    "    print (n3)\n",
    "\n"
   ]
  },
  {
   "cell_type": "code",
   "execution_count": null,
   "metadata": {},
   "outputs": [],
   "source": []
  },
  {
   "cell_type": "code",
   "execution_count": null,
   "metadata": {},
   "outputs": [],
   "source": []
  }
 ],
 "metadata": {
  "kernelspec": {
   "display_name": "Python 3",
   "language": "python",
   "name": "python3"
  },
  "language_info": {
   "codemirror_mode": {
    "name": "ipython",
    "version": 3
   },
   "file_extension": ".py",
   "mimetype": "text/x-python",
   "name": "python",
   "nbconvert_exporter": "python",
   "pygments_lexer": "ipython3",
   "version": "3.6.4"
  }
 },
 "nbformat": 4,
 "nbformat_minor": 2
}
