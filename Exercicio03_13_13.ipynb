{
 "cells": [
  {
   "cell_type": "markdown",
   "metadata": {},
   "source": [
    " Faça um programa que leia e valide as seguintes informações: Nome: maior que 3 caracteres; Idade: entre 0 e 150; \n",
    "Salário: maior que zero; Sexo: 'f' ou 'm'; Estado Civil: 's', 'c', 'v', 'd'; "
   ]
  },
  {
   "cell_type": "code",
   "execution_count": null,
   "metadata": {},
   "outputs": [],
   "source": [
    "nome = str(input('Informe o nome: ')) \n",
    "\n",
    "while (len(nome) < 3): \n",
    "        print ('Nome inválido') \n",
    "\n",
    "#nome = str(input('Informe o nome: ')) \n",
    "\n",
    " \n",
    "idade = int(input('Informe a idade: ')) \n",
    "\n",
    "while (idade < 0 or idade > 150): \n",
    "        print ('Idade inválida') \n",
    "\n",
    "#idade = int(input('Informe a idade: ')) \n",
    "\n",
    "\n",
    "salario = input('Informe o salario: ') \n",
    "\n",
    "while (salario < 0): \n",
    "        print ('Salário inválido') \n",
    "\n",
    "#salario = input('Informe o salario: ') \n",
    "\n",
    " \n",
    "sexo = float(input('Informe o sexo: ')) \n",
    "\n",
    "while (sexo != 'f' and sexo != 'm'): \n",
    "    print ('Sexo inválido') \n",
    "\n",
    "#sexo = float(input('Informe o sexo: ')) \n",
    "\n",
    " \n",
    "e_civil = input('Informe o estado civil: ') \n",
    "\n",
    "while (e_civil != 's' and e_civil != 'c' and e_civil != 'v' and e_civil != 'd'): \n",
    "        print ('Estado civil inválido') \n",
    "\n",
    "#e_civil = input('Informe o estado civil: ')"
   ]
  },
  {
   "cell_type": "code",
   "execution_count": null,
   "metadata": {},
   "outputs": [],
   "source": []
  },
  {
   "cell_type": "code",
   "execution_count": null,
   "metadata": {},
   "outputs": [],
   "source": []
  }
 ],
 "metadata": {
  "kernelspec": {
   "display_name": "Python 3",
   "language": "python",
   "name": "python3"
  },
  "language_info": {
   "codemirror_mode": {
    "name": "ipython",
    "version": 3
   },
   "file_extension": ".py",
   "mimetype": "text/x-python",
   "name": "python",
   "nbconvert_exporter": "python",
   "pygments_lexer": "ipython3",
   "version": "3.6.4"
  }
 },
 "nbformat": 4,
 "nbformat_minor": 2
}
