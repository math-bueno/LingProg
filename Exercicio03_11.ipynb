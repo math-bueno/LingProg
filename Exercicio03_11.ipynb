{
 "cells": [
  {
   "cell_type": "markdown",
   "metadata": {},
   "source": [
    "11. Faça um programa que faça 5 perguntas para uma pessoa sobre um crime. As perguntas são: \"Telefonou para a vítima?\" \"Esteve no local do crime?\" \"Mora perto da vítima?\" \"Devia para a vítima?\" \"Já trabalhou com a vítima?\"  O programa deve no final emitir uma classificação sobre a participação da pessoa no crime. Se a pessoa responder positivamente a 2 questões ela deve ser classificada como \"Suspeita\", entre 3 e 4 como \"Cúmplice\" e 5 como \"Assassino\". Caso contrário, ele será classificado como \"Inocente\". "
   ]
  },
  {
   "cell_type": "code",
   "execution_count": 1,
   "metadata": {},
   "outputs": [
    {
     "name": "stdout",
     "output_type": "stream",
     "text": [
      "Telefonou para a vítima?S\n",
      "Esteve no local do crime?N\n",
      "Mora perto da vítima?S\n",
      "Devia para a vítima?N\n",
      "Já trabalhou com a vítima?N\n",
      "Suspeito\n"
     ]
    }
   ],
   "source": [
    "perguntas = [ \n",
    "    \"Telefonou para a vítima?\" ,\n",
    "    \"Esteve no local do crime?\" ,\n",
    "    \"Mora perto da vítima?\" ,\n",
    "    \"Devia para a vítima?\" ,\n",
    "    \"Já trabalhou com a vítima?\" \n",
    "]\n",
    "resposta = 0\n",
    "for qual in perguntas:\n",
    "  resposta += (input(qual) == \"S\")\n",
    "  \n",
    "if resposta == 5:\n",
    "  print(\"Assassino\")\n",
    "elif resposta >=3:\n",
    "  print(\"Cúmplice\")\n",
    "elif resposta ==2:\n",
    "  print(\"Suspeito\")\n",
    "else:\n",
    "  print(\"Inocente\")\n",
    "  \n"
   ]
  },
  {
   "cell_type": "code",
   "execution_count": null,
   "metadata": {},
   "outputs": [],
   "source": []
  }
 ],
 "metadata": {
  "kernelspec": {
   "display_name": "Python 3",
   "language": "python",
   "name": "python3"
  },
  "language_info": {
   "codemirror_mode": {
    "name": "ipython",
    "version": 3
   },
   "file_extension": ".py",
   "mimetype": "text/x-python",
   "name": "python",
   "nbconvert_exporter": "python",
   "pygments_lexer": "ipython3",
   "version": "3.6.4"
  }
 },
 "nbformat": 4,
 "nbformat_minor": 2
}
