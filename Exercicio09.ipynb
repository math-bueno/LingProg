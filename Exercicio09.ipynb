{
 "cells": [
  {
   "cell_type": "markdown",
   "metadata": {},
   "source": [
    "**1\\.** Implemente um gerador infinito de números primos"
   ]
  },
  {
   "cell_type": "code",
   "execution_count": 26,
   "metadata": {},
   "outputs": [
    {
     "name": "stdout",
     "output_type": "stream",
     "text": [
      "1\n",
      "2\n",
      "3\n",
      "5\n",
      "7\n",
      "11\n",
      "13\n",
      "17\n",
      "19\n",
      "23\n"
     ]
    }
   ],
   "source": [
    "def gen_primes():    \n",
    "    D = {}\n",
    "    q = 1\n",
    "    \n",
    "    while True:\n",
    "        if q not in D: \n",
    "            yield q\n",
    "            D[q * q] = [q]\n",
    "        else:\n",
    "            for p in D[q]:\n",
    "                D.setdefault(p + q, []).append(p)\n",
    "            del D[q]\n",
    "        \n",
    "        q += 1        \n",
    "\n",
    "i = iter(gen_primes())\n",
    "for k in range(10):\n",
    "    print(next(i))"
   ]
  },
  {
   "cell_type": "markdown",
   "metadata": {},
   "source": [
    "**2\\.** Implementar um gerador que leia um arquivo e retorne uma lista de tuplas com os dados (o separador de campo do arquivo é virgula), eliminando as linhas vazias. Caso ocorra algum problema, imprima uma mensagem de aviso e encerre o programa. \n",
    "Use o exemplo abaixo como arquivo de entrada:\n",
    "\n",
    "Ex:\n",
    "\n",
    "Entrada:\n",
    "teste.txt\n",
    "\n",
    "1,vermelho,2,verde,3,amarelo,4,roxo\n",
    "\n",
    "5,verde,6,preto,7,laranja,8,amarelo\n",
    "\n",
    "9,preto,10,roxo,11,roxo,12,branco\n",
    "\n",
    "Chamada:\n",
    "`gera_tupla(teste.txt)`\n",
    "\n",
    "Retorno:\n",
    "`[(1,'vermelho'),(2,'verde'),(3,'amarelo'),(4,'roxo'),(5,'verde'),(6,'preto'),(7,'laranja'),(8,'amarelo'),(9,'preto'),(10,'roxo'),(11,'roxo'),(12,'branco')]`"
   ]
  },
  {
   "cell_type": "code",
   "execution_count": 2,
   "metadata": {},
   "outputs": [
    {
     "name": "stdout",
     "output_type": "stream",
     "text": [
      "('1', 'vermelho', '2', 'verde', '3', 'amarelo', '4', 'roxo', '5', 'verde', '6', 'preto', '7', 'laranja', '8', 'amarelo', '9', 'preto', '10', 'roxo', '11', 'roxo', '12', 'branco')\n"
     ]
    }
   ],
   "source": [
    "# Test\n",
    "#t = tuple(\"1,vermelho,2,verde,3,amarelo,4,roxo,5,verde,6,preto,7,laranja,8,amarelo,9,preto,10,roxo,11,roxo,12,branco\"\n",
    "#          .split(\",\"))\n",
    "#print(t)\n",
    "\n",
    "def gera_tupla(fn):\n",
    "    try:\n",
    "        myFile = open(fn)\n",
    "        for line in myFile:\n",
    "            new_line = line.strip()\n",
    "            if new_line:\n",
    "                yield tuple(new_line.split(','))\n",
    "    except:\n",
    "        print('Ocorreu um erro ao ler o arquivo', fn)\n",
    "        raise SystemExit\n",
    "        \n",
    "for line in gera_tupla('teste.txt'):\n",
    "    print(line)"
   ]
  },
  {
   "cell_type": "markdown",
   "metadata": {},
   "source": [
    "**3\\.** Implementar dois geradores e rodá-los em paralelo (coroutine) para processar dois arquivos e gerar tuplas. O primeiro é similar ao do exercício 2. O segundo processa outro arquivo, também separado por vírgulas. No final, a lista gerada deve conter tuplas com 3 elementos. Use o exemplo baixo como base:\n",
    "\n",
    "Entrada:\n",
    "\n",
    "teste1.txt\n",
    "\n",
    "1,vermelho,2,verde,3,amarelo,4,roxo\n",
    "\n",
    "5,verde,6,preto,7,laranja,8,amarelo\n",
    "\n",
    "9,preto,10,roxo,11,roxo,12,branco\n",
    "\n",
    "\n",
    "teste2.txt\n",
    "\n",
    "0,1,0,0\n",
    "\n",
    "1,1,1,0\n",
    "\n",
    "1,0,0,1\n",
    "\n",
    "Chamada:\n",
    "`gera_tupla1(teste1.txt), gera_tupla2(teste2.txt)`\n",
    "\n",
    "Retorno:\n",
    "`[(1,'vermelho',False),(2,'verde',True),(3,'amarelo',False),(4,'roxo',False),(5,'verde',True),(6,'preto',True),(7,'laranja',True),(8,'amarelo',False),(9,'preto',True),(10,'roxo',False),(11,'roxo',False),(12,'branco',True)]`"
   ]
  },
  {
   "cell_type": "code",
   "execution_count": 6,
   "metadata": {},
   "outputs": [
    {
     "name": "stdout",
     "output_type": "stream",
     "text": [
      "Finish\n",
      "[('1', 'vermelho', '2', 'verde', '3', 'amarelo', '4', 'roxo', '5', 'verde', '6', 'preto', '7', 'laranja', '8', 'amarelo', '9', 'preto', '10', 'roxo', '11', 'roxo', '12', 'branco')]\n"
     ]
    }
   ],
   "source": [
    "def load_txt(fn):\n",
    "    try:\n",
    "        myFile = open(fn)\n",
    "        for line in myFile:\n",
    "            new_line = line.strip()\n",
    "            if new_line:\n",
    "                try:\n",
    "                    yield tuple(new_line.split(','))\n",
    "                except:\n",
    "                    continue\n",
    "    except:\n",
    "        print('Ocorreu um erro ao ler o arquivo', fn)\n",
    "        raise SystemExit\n",
    "        \n",
    "# def new_test(fn1, fn2):\n",
    "#     func1 = iter(fn1)\n",
    "#     for k in range(2):\n",
    "#         try:\n",
    "#             print(next(func1))\n",
    "#         except Exception:\n",
    "#             print(e)\n",
    "    \n",
    "# new_test(load_txt('teste1.txt'), load_txt('teste2.txt'))\n",
    "\n",
    "finish_list = []\n",
    "for i, (t1, t2) in enumerate(zip(load_txt('teste1.txt'), load_txt('teste2.txt'))):\n",
    "   finish_list.append(t1 if i % 2 == 0 else t2)\n",
    "print(\"Finish\")\n",
    "print(finish_list)"
   ]
  },
  {
   "cell_type": "markdown",
   "metadata": {},
   "source": [
    "**4\\.** Escreva um generator que crie um fluxo infinito de inteiros a partir de um valor inicial dado com passo 5.\n",
    "\n",
    "Ex: gera_inteiros(7) = 12, 17, 22, 27, ..."
   ]
  },
  {
   "cell_type": "code",
   "execution_count": 116,
   "metadata": {},
   "outputs": [
    {
     "name": "stdout",
     "output_type": "stream",
     "text": [
      "12\n",
      "17\n",
      "22\n",
      "27\n"
     ]
    }
   ],
   "source": [
    "def gera_inteiros(initial, step):\n",
    "    for i in range(10):\n",
    "        my_number = yield lista[i] + step\n",
    "        lista.append(my_number)\n",
    "        \n",
    "g = gera_inteiros(7, 5)\n",
    "print(next(g))\n",
    "print(next(g))\n",
    "print(next(g))\n",
    "print(next(g))"
   ]
  },
  {
   "cell_type": "markdown",
   "metadata": {},
   "source": [
    "**5\\.** Estenda o generator do exercício 4 em uma coroutine que permita que a mudança do passo seja feita de fora (use send()).\n",
    "\n",
    "Ex: gera_inteiros_flex(7) = 12, 17, 22, 24, 26, 28, 30...\n",
    "\n",
    "Entre 22 e 24 o passo foi alterado de 5 para 2."
   ]
  },
  {
   "cell_type": "code",
   "execution_count": 117,
   "metadata": {},
   "outputs": [
    {
     "name": "stdout",
     "output_type": "stream",
     "text": [
      "12\n",
      "17\n",
      "22\n",
      "32\n"
     ]
    }
   ],
   "source": [
    "def gera_inteiros_flex(initial, step):\n",
    "    for i in range(10):\n",
    "        my_number = yield lista[i] + step\n",
    "        lista.append(my_number)\n",
    "        \n",
    "g = gera_inteiros_flex(7, 5)\n",
    "print(next(g))\n",
    "print(next(g))\n",
    "print(next(g))\n",
    "g.send(7)\n",
    "print(next(g))"
   ]
  }
 ],
 "metadata": {
  "kernelspec": {
   "display_name": "Python 3",
   "language": "python",
   "name": "python3"
  },
  "language_info": {
   "codemirror_mode": {
    "name": "ipython",
    "version": 3
   },
   "file_extension": ".py",
   "mimetype": "text/x-python",
   "name": "python",
   "nbconvert_exporter": "python",
   "pygments_lexer": "ipython3",
   "version": "3.6.4"
  }
 },
 "nbformat": 4,
 "nbformat_minor": 2
}
