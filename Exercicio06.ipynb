{
 "cells": [
  {
   "cell_type": "markdown",
   "metadata": {},
   "source": [
    "**1\\.** Defina a função `soma_nat` que recebe como argumento um número natural $n$ e devolve a soma de todos os números naturais até $n$."
   ]
  },
  {
   "cell_type": "code",
   "execution_count": 115,
   "metadata": {},
   "outputs": [
    {
     "name": "stdout",
     "output_type": "stream",
     "text": [
      "Começando teste...\n",
      "15\n"
     ]
    }
   ],
   "source": [
    "##Solução 1\n",
    "def soma_nat(numero):\n",
    "    if numero < 0:\n",
    "        return None\n",
    "    elif numero <= 1:\n",
    "        return numero\n",
    "    else:\n",
    "        return (numero + soma_nat(numero - 1))\n",
    "        \n",
    "        \n",
    "print('Começando teste...')\n",
    "assert soma_nat(5), 'Insira apenas números naturais (maiores ou iguais a 0)'\n",
    "print(soma_nat(5))"
   ]
  },
  {
   "cell_type": "code",
   "execution_count": 114,
   "metadata": {},
   "outputs": [
    {
     "name": "stdout",
     "output_type": "stream",
     "text": [
      "Começando teste...\n",
      "15\n"
     ]
    }
   ],
   "source": [
    "##Solução 2\n",
    "def soma_nat(numero): \n",
    "    return (numero + soma_nat(numero - 1)) if numero > 1 \\\n",
    "        else numero if numero <= 1 and numero >= 0 \\\n",
    "        else None\n",
    "\n",
    "print('Começando teste...')\n",
    "assert soma_nat(5), 'Insira apenas números naturais (maiores ou iguais a 0)'\n",
    "print(soma_nat(5))"
   ]
  },
  {
   "cell_type": "markdown",
   "metadata": {},
   "source": [
    "**2\\.** Defina a função `div` que recebe como argumentos dois números naturais $m$ e $n$ e devolve o resultado da divisão inteira de $m$ por $n$. Neste exercício não pode recorrer às operações aritméticas de multiplicação, divisão e resto da divisão inteira."
   ]
  },
  {
   "cell_type": "code",
   "execution_count": 103,
   "metadata": {},
   "outputs": [
    {
     "name": "stdout",
     "output_type": "stream",
     "text": [
      "Começando teste...\n",
      "3\n"
     ]
    }
   ],
   "source": [
    "def div(num, den):\n",
    "\n",
    "    if num < den:\n",
    "        return 0\n",
    "    else:\n",
    "        return div(num-den, den) + 1\n",
    "    \n",
    "print('Começando teste...')\n",
    "assert div(7,2), 'Algo deu errado'\n",
    "print(div(7, 2))"
   ]
  },
  {
   "cell_type": "markdown",
   "metadata": {},
   "source": [
    "**3\\.** Defina a função `prim_alg` que recebe como argumento um número natural e devolve o primeiro algarismo (o mais significativo) na representação decimal de $n$."
   ]
  },
  {
   "cell_type": "code",
   "execution_count": 118,
   "metadata": {},
   "outputs": [
    {
     "name": "stdout",
     "output_type": "stream",
     "text": [
      "Começando teste...\n",
      "5\n"
     ]
    }
   ],
   "source": [
    "def prim_alg(numero):\n",
    "    if numero < 0:\n",
    "        return None\n",
    "    else:\n",
    "        return str(numero)[:1]\n",
    "        \n",
    "print('Começando teste...')\n",
    "assert prim_alg(5649), 'É preciso informar um número natural (maior ou igual a zero)'\n",
    "print(prim_alg(5649))"
   ]
  },
  {
   "cell_type": "markdown",
   "metadata": {},
   "source": [
    "**4\\.** Defina a função `prod_lista` que recebe como argumento uma lista de inteiros e devolve o produto dos seus elementos."
   ]
  },
  {
   "cell_type": "code",
   "execution_count": 111,
   "metadata": {},
   "outputs": [
    {
     "name": "stdout",
     "output_type": "stream",
     "text": [
      "Começando teste...\n",
      "720\n"
     ]
    }
   ],
   "source": [
    "def prod_lista(lista):\n",
    "    return reduce(lambda x, y: x * y, lista)\n",
    "    \n",
    "print('Começando teste...')\n",
    "assert prod_lista([1,2,3,4,5,6]), 'Algo deu errado'\n",
    "print(prod_lista([1,2,3,4,5,6]))"
   ]
  },
  {
   "cell_type": "markdown",
   "metadata": {},
   "source": [
    "**5\\.** Defina a função `contem_parQ` que recebe como argumento uma lista de números inteiros $w$ e devolve `True` se $w$ contém um número par e `False` em caso contrário."
   ]
  },
  {
   "cell_type": "code",
   "execution_count": 3,
   "metadata": {},
   "outputs": [
    {
     "name": "stdout",
     "output_type": "stream",
     "text": [
      "Começando teste...\n",
      "True\n"
     ]
    }
   ],
   "source": [
    "#Solução 1\n",
    "def contem_parQ(w):\n",
    "    for i in w:\n",
    "        if i % 2 == 0:\n",
    "            return True\n",
    "    return False\n",
    "\n",
    "print('Começando teste...')\n",
    "assert contem_parQ([2,3,1,2,3,4]), 'Não há números pares na lista passada'\n",
    "print(contem_parQ([2,3,1,2,3,4]))"
   ]
  },
  {
   "cell_type": "code",
   "execution_count": 6,
   "metadata": {},
   "outputs": [
    {
     "name": "stdout",
     "output_type": "stream",
     "text": [
      "Começando teste...\n",
      "True\n"
     ]
    }
   ],
   "source": [
    "#Solução 2\n",
    "def contem_parQ(w):\n",
    "    if w[0] % 2 == 0:\n",
    "        return True\n",
    "    else:\n",
    "        if len(w) > 1:\n",
    "            contem_parQ(w + 1)        \n",
    "        return False\n",
    "\n",
    "print('Começando teste...')\n",
    "assert contem_parQ([2,3,1,2,3,4]), 'Não há números pares na lista passada'\n",
    "print(contem_parQ([2,3,1,2,3,4]))"
   ]
  },
  {
   "cell_type": "code",
   "execution_count": null,
   "metadata": {},
   "outputs": [],
   "source": []
  }
 ],
 "metadata": {
  "kernelspec": {
   "display_name": "Python 3",
   "language": "python",
   "name": "python3"
  },
  "language_info": {
   "codemirror_mode": {
    "name": "ipython",
    "version": 3
   },
   "file_extension": ".py",
   "mimetype": "text/x-python",
   "name": "python",
   "nbconvert_exporter": "python",
   "pygments_lexer": "ipython3",
   "version": "3.6.4"
  }
 },
 "nbformat": 4,
 "nbformat_minor": 2
}
