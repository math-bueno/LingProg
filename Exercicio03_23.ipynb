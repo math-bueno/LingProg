{
 "cells": [
  {
   "cell_type": "markdown",
   "metadata": {},
   "source": [
    "Foi feita uma estatística em cinco cidades brasileiras para coletar dados sobre acidentes de trânsito. Foram obtidos os seguintes dados: - Código da cidade; - Número de veículos de passeio (em 1999); - Número de acidentes de trânsito com vítimas (em 1999). Deseja-se saber: - Qual o maior e menor índice de acidentes de transito e a que cidade pertence; - Qual a média de veículos nas cinco cidades juntas; - Qual a média de acidentes de trânsito nas cidades com menos de 2.000 veículos de passeio. \n",
    " "
   ]
  },
  {
   "cell_type": "code",
   "execution_count": null,
   "metadata": {},
   "outputs": [
    {
     "name": "stdout",
     "output_type": "stream",
     "text": [
      "Informe o codigo da cidade: 1\n"
     ]
    }
   ],
   "source": [
    "somaVeiculos = 0\n",
    "somaAcidentes = 0\n",
    "somaAcidentesMenos2Mil = 0\n",
    "totalCidadesMenos2Mil = 0\n",
    "\n",
    "for i in range(0, 5):\n",
    "    codigo = int(input('Informe o codigo da cidade: '))\n",
    "    veiculos = int(input('Informe o numero de veiculos de passeio: '))\n",
    "    acidentes = int(input('Informe a quantidade de acidentes em 1999: '))\n",
    "\n",
    "    indiceAcidentes = acidentes / float(veiculos)\n",
    "    somaVeiculos += veiculos\n",
    "\n",
    "    if ('maisAcidentes' not in vars()) or (indiceAcidentes > maisAcidentes):\n",
    "        maisAcidentes = indiceAcidentes\n",
    "        codigoMaisAcidentes = codigo\n",
    "    if ('menosAcidentes' not in vars()) or (indiceAcidentes < menosAcidentes):\n",
    "        menosAcidentes = indiceAcidentes\n",
    "        codigoMenosAcidentes = codigo\n",
    "\n",
    "    if (veiculos < 2000):\n",
    "        somaAcidentesMenos2Mil += acidentes\n",
    "        totalCidadesMenos2Mil += 1\n",
    "\n",
    "print ('O cidade com maior indice de acidentes eh %i com %.2f' %(codigoMaisAcidentes, maisAcidentes))\n",
    "print ('O cidade com menor indice de acidentes eh %i com %.2f' %(codigoMenosAcidentes, menosAcidentes))\n",
    "print ('A media de veiculos nas cidades eh %.2f' % (somaVeiculos / 5.0))\n",
    "print ('A media de acidentes de transito nas cidades com menos de 2k veiculos eh %.2f' %(somaAcidentesMenos2Mil / float(totalCidadesMenos2Mil)))"
   ]
  },
  {
   "cell_type": "code",
   "execution_count": null,
   "metadata": {},
   "outputs": [],
   "source": []
  }
 ],
 "metadata": {
  "kernelspec": {
   "display_name": "Python 3",
   "language": "python",
   "name": "python3"
  },
  "language_info": {
   "codemirror_mode": {
    "name": "ipython",
    "version": 3
   },
   "file_extension": ".py",
   "mimetype": "text/x-python",
   "name": "python",
   "nbconvert_exporter": "python",
   "pygments_lexer": "ipython3",
   "version": "3.6.4"
  }
 },
 "nbformat": 4,
 "nbformat_minor": 2
}
