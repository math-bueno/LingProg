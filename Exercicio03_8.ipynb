{
 "cells": [
  {
   "cell_type": "markdown",
   "metadata": {},
   "source": [
    "8. Faça um Programa que peça os 3 lados de um triângulo. O programa deverá informar se os valores podem ser um triângulo. Indique, caso os lados formem um triângulo, se o mesmo é: equilátero, isósceles ou escaleno. Dicas: - Três lados formam um triângulo quando a soma de quaisquer dois lados for maior que o terceiro; - Triângulo Equilátero: três lados iguais; - Triângulo Isósceles: quaisquer dois lados iguais; - Triângulo Escaleno: três lados diferentes; "
   ]
  },
  {
   "cell_type": "code",
   "execution_count": 3,
   "metadata": {},
   "outputs": [
    {
     "name": "stdout",
     "output_type": "stream",
     "text": [
      "Digite o primeiro lado: 5\n",
      "Digite o segundo lado: 10\n",
      "Digite o terceiro lado: 12\n",
      "Triângulo Escaleno.\n"
     ]
    }
   ],
   "source": [
    "l1 = input('Digite o primeiro lado: ')\n",
    "l2 = input('Digite o segundo lado: ')\n",
    "l3 = input('Digite o terceiro lado: ')\n",
    "\n",
    "if l1 + l2 > l3:\n",
    "    if l1 == l2 and l1 == l3:\n",
    "        print ('Triângulo Equilátero.')\n",
    "    elif l1 == l2 or l2 == l3 or l1 == l3:\n",
    "        print ('Triângulo Isósceles.')\n",
    "    elif l1 != l2 and l3 or l2 != l1 and l3 or l1 != l3:\n",
    "        print ('Triângulo Escaleno.')\n",
    "\n",
    "else:\n",
    "    print ('Os valores informados não compõem um Triângulo.')"
   ]
  },
  {
   "cell_type": "code",
   "execution_count": null,
   "metadata": {},
   "outputs": [],
   "source": []
  },
  {
   "cell_type": "code",
   "execution_count": null,
   "metadata": {},
   "outputs": [],
   "source": []
  }
 ],
 "metadata": {
  "kernelspec": {
   "display_name": "Python 3",
   "language": "python",
   "name": "python3"
  },
  "language_info": {
   "codemirror_mode": {
    "name": "ipython",
    "version": 3
   },
   "file_extension": ".py",
   "mimetype": "text/x-python",
   "name": "python",
   "nbconvert_exporter": "python",
   "pygments_lexer": "ipython3",
   "version": "3.6.4"
  }
 },
 "nbformat": 4,
 "nbformat_minor": 2
}
