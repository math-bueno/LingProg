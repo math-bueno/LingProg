{
 "cells": [
  {
   "cell_type": "markdown",
   "metadata": {},
   "source": [
    "5. As Organizações Tabajara resolveram dar um aumento de salário aos seus colaboradores e lhe contrataram para desenvolver o programa que calculará os reajustes. Faça um programa que recebe o salário de um colaborador e o reajuste segundo o seguinte critério, baseado no salário atual: - salários até R$ 280,00 (incluindo) : aumento de 20% - salários entre R$ 280,00 e R$ 700,00 : aumento de 15% - salários entre R$ 700,00 e R$ 1500,00 : aumento de 10% - salários de R$ 1500,00 em diante : aumento de 5% Após o aumento ser realizado, informe na tela: - o salário antes do reajuste; - o percentual de aumento aplicado; - o valor do aumento; - o novo salário, após o aumento. \n"
   ]
  },
  {
   "cell_type": "code",
   "execution_count": 54,
   "metadata": {},
   "outputs": [
    {
     "name": "stdout",
     "output_type": "stream",
     "text": [
      "Digite seu salario: 4000\n"
     ]
    }
   ],
   "source": [
    "salario = int(input('Digite seu salario: '))"
   ]
  },
  {
   "cell_type": "code",
   "execution_count": 57,
   "metadata": {},
   "outputs": [
    {
     "name": "stdout",
     "output_type": "stream",
     "text": [
      "Seu salário antes de ser reajustado era:  4000\n",
      "Sua porcentagem de aumento foi: %  0.2\n",
      "O valor da porcentagem de aumento é: R$  800.0\n",
      "Salário reajustado ficou: R$  4800.0\n"
     ]
    }
   ],
   "source": [
    "#Salário maior que 280\n",
    "if salario <= 280:\n",
    "       por=(20/100)\n",
    "\n",
    "porcentagem = (por*salario)\n",
    "total = salario+porcentagem  \n",
    "\n",
    "\n",
    "#Salário maior que 280 e menor que 700\n",
    "if salario > 280 and salario < 700:\n",
    "    por = (15/100)       \n",
    "    \n",
    "porcentagem = (por*salario)\n",
    "total = salario+porcentagem  \n",
    "    \n",
    "#Salário maior que 700 e menor que 1500\n",
    "if salario > 700 and salario < 1500:\n",
    "    por = (10/100)\n",
    "        \n",
    "porcentagem = (por*salario)\n",
    "total = salario+porcentagem  \n",
    "\n",
    "print ('Seu salário antes de ser reajustado era: ' , salario)\n",
    "print('Sua porcentagem de aumento foi: % ' , por)\n",
    "print('O valor da porcentagem de aumento é: R$ ' , porcentagem)\n",
    "print('Salário reajustado ficou: R$ ' , total)"
   ]
  },
  {
   "cell_type": "code",
   "execution_count": null,
   "metadata": {},
   "outputs": [],
   "source": []
  },
  {
   "cell_type": "code",
   "execution_count": null,
   "metadata": {},
   "outputs": [],
   "source": []
  },
  {
   "cell_type": "code",
   "execution_count": null,
   "metadata": {},
   "outputs": [],
   "source": []
  }
 ],
 "metadata": {
  "kernelspec": {
   "display_name": "Python 3",
   "language": "python",
   "name": "python3"
  },
  "language_info": {
   "codemirror_mode": {
    "name": "ipython",
    "version": 3
   },
   "file_extension": ".py",
   "mimetype": "text/x-python",
   "name": "python",
   "nbconvert_exporter": "python",
   "pygments_lexer": "ipython3",
   "version": "3.6.4"
  }
 },
 "nbformat": 4,
 "nbformat_minor": 2
}
