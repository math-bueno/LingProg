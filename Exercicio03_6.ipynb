{
 "cells": [
  {
   "cell_type": "markdown",
   "metadata": {},
   "source": [
    "6. Faça um Programa que leia um número e exiba o dia correspondente da semana. (1-Domingo, 2- Segunda, etc.), se digitar outro valor deve aparecer valor inválido. "
   ]
  },
  {
   "cell_type": "code",
   "execution_count": 4,
   "metadata": {},
   "outputs": [
    {
     "name": "stdout",
     "output_type": "stream",
     "text": [
      "Digite um numero: 1\n",
      "1-Domingo\n"
     ]
    }
   ],
   "source": [
    "numero = int(input('Digite um numero: '))\n",
    "\n",
    "if numero == 1:\n",
    "    print ('1-Domingo')\n",
    "elif numero == 2:\n",
    "    print ('2-Segunda')\n",
    "elif numero == 3:\n",
    "    print ('3-Terça')\n",
    "elif numero == 4:\n",
    "    print ('4-Quarta')\n",
    "elif numero == 5:\n",
    "    print ('5-Quinta')\n",
    "elif numero == 6:\n",
    "    print ('6-Sexta')\n",
    "elif numero == 7:\n",
    "    print ('7-Sabádo')\n",
    "else:\n",
    "    print ('Entrada invalida')"
   ]
  },
  {
   "cell_type": "code",
   "execution_count": null,
   "metadata": {},
   "outputs": [],
   "source": []
  }
 ],
 "metadata": {
  "kernelspec": {
   "display_name": "Python 3",
   "language": "python",
   "name": "python3"
  },
  "language_info": {
   "codemirror_mode": {
    "name": "ipython",
    "version": 3
   },
   "file_extension": ".py",
   "mimetype": "text/x-python",
   "name": "python",
   "nbconvert_exporter": "python",
   "pygments_lexer": "ipython3",
   "version": "3.6.4"
  }
 },
 "nbformat": 4,
 "nbformat_minor": 2
}
