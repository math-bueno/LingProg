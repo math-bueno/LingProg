{
 "cells": [
  {
   "cell_type": "markdown",
   "metadata": {},
   "source": [
    "3. Faça um programa para a leitura de duas notas parciais de um aluno. O programa deve calcular a média alcançada por aluno e apresentar: - A mensagem \"Aprovado\", se a média alcançada for maior ou igual a sete; - A mensagem \"Reprovado\", se a média for menor do que sete; - A mensagem \"Aprovado com Distinção\", se a média for igual a dez. "
   ]
  },
  {
   "cell_type": "code",
   "execution_count": 19,
   "metadata": {},
   "outputs": [
    {
     "name": "stdout",
     "output_type": "stream",
     "text": [
      "Digite a primeira nota: 8\n",
      "Digite a segunda nota: 8\n"
     ]
    }
   ],
   "source": [
    "n1 = int(input ('Digite a primeira nota: '))\n",
    "n2 = int(input('Digite a segunda nota: ')) \n",
    "\n",
    "\n",
    "media = (n1 + n2) /2 "
   ]
  },
  {
   "cell_type": "code",
   "execution_count": 20,
   "metadata": {},
   "outputs": [
    {
     "name": "stdout",
     "output_type": "stream",
     "text": [
      "Aprovado\n"
     ]
    }
   ],
   "source": [
    "if media  == 10:\n",
    "    print ('Aprovado com Distinção')\n",
    "    \n",
    "elif media >= 7 and media <10:\n",
    "    print('Aprovado') \n",
    "    \n",
    "else : print('Reprovado')    "
   ]
  },
  {
   "cell_type": "code",
   "execution_count": null,
   "metadata": {},
   "outputs": [],
   "source": []
  }
 ],
 "metadata": {
  "kernelspec": {
   "display_name": "Python 3",
   "language": "python",
   "name": "python3"
  },
  "language_info": {
   "codemirror_mode": {
    "name": "ipython",
    "version": 3
   },
   "file_extension": ".py",
   "mimetype": "text/x-python",
   "name": "python",
   "nbconvert_exporter": "python",
   "pygments_lexer": "ipython3",
   "version": "3.6.4"
  }
 },
 "nbformat": 4,
 "nbformat_minor": 2
}
